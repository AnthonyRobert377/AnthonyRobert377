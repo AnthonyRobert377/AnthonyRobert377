{
  "nbformat": 4,
  "nbformat_minor": 0,
  "metadata": {
    "colab": {
      "provenance": [],
      "include_colab_link": true
    },
    "kernelspec": {
      "name": "python3",
      "display_name": "Python 3"
    },
    "language_info": {
      "name": "python"
    }
  },
  "cells": [
    {
      "cell_type": "markdown",
      "metadata": {
        "id": "view-in-github",
        "colab_type": "text"
      },
      "source": [
        "<a href=\"https://colab.research.google.com/github/AnthonyRobert377/AnthonyRobert377/blob/main/Web_Scraping_from_TrustPilot_v3.ipynb\" target=\"_parent\"><img src=\"https://colab.research.google.com/assets/colab-badge.svg\" alt=\"Open In Colab\"/></a>"
      ]
    },
    {
      "cell_type": "code",
      "execution_count": 5,
      "metadata": {
        "id": "JP6PLQnwDvlC",
        "outputId": "4cada0a8-c30e-49a7-ee7d-034ace3f3562",
        "colab": {
          "base_uri": "https://localhost:8080/"
        }
      },
      "outputs": [
        {
          "output_type": "stream",
          "name": "stdout",
          "text": [
            "Scraping: https://www.trustpilot.com/review/spinfinite.com?page=1\n",
            "Scraping: https://www.trustpilot.com/review/spinfinite.com?page=2\n",
            "Scraping: https://www.trustpilot.com/review/spinfinite.com?page=3\n",
            "Scraping: https://www.trustpilot.com/review/spinfinite.com?page=4\n",
            "   First Name Last Name                                     Review Heading  \\\n",
            "0      Bhavin      None                                               None   \n",
            "1    Alistair      None                                               None   \n",
            "2        Kate      None                                               None   \n",
            "3       Meegs      None                                               None   \n",
            "4    Alistair      None                               Spinfinite is decent   \n",
            "..        ...       ...                                                ...   \n",
            "91    Brandon    Butler              Been playing on Spinfinite for three…   \n",
            "92  Francesca      None                      Mission variety keeps things…   \n",
            "93     Bonnie      None                Hit a jackpot using my daily login…   \n",
            "94    Alberto      None                         It’s a fun site to play on   \n",
            "95      Jared      None  A fine place to play if you dont ever plan on ...   \n",
            "\n",
            "                                          Review Text Review Date Rating  \n",
            "0                                                None  2025-05-01   None  \n",
            "1                                                None  2025-05-01   None  \n",
            "2                                                None  2025-04-29   None  \n",
            "3                                                None  2025-04-29   None  \n",
            "4   Spinfinite is decent. I’ve had a good time wit...  2025-05-01      3  \n",
            "..                                                ...         ...    ...  \n",
            "91  Been playing on Spinfinite for three weeks now...  2025-04-01      5  \n",
            "92  Mission variety keeps things interesting. Supp...  2025-04-01      3  \n",
            "93  Hit a jackpot using my daily login bonus, such...  2025-03-31      5  \n",
            "94  It’s a fun site to play on. The game selection...  2025-04-09      5  \n",
            "95  So i signed up here and things started out pro...  2025-03-31      1  \n",
            "\n",
            "[96 rows x 6 columns]\n"
          ]
        }
      ],
      "source": [
        "import requests\n",
        "from bs4 import BeautifulSoup\n",
        "import pandas as pd\n",
        "from time import sleep\n",
        "\n",
        "from datetime import datetime\n",
        "\n",
        "def extract_reviews(page_url):\n",
        "    headers = {\"User-Agent\": \"Mozilla/5.0\"}\n",
        "    response = requests.get(page_url, headers=headers)\n",
        "    soup = BeautifulSoup(response.content, 'html.parser')\n",
        "\n",
        "    review_articles = soup.find_all('article', attrs={\"data-service-review-card-paper\": True})\n",
        "\n",
        "    reviews_data = []\n",
        "    for article in review_articles:\n",
        "        review_heading = None\n",
        "        review_text = None\n",
        "        review_date = None\n",
        "        rating = None\n",
        "        first_name = None\n",
        "        last_name = None\n",
        "\n",
        "        # Extract reviewer full name\n",
        "        name_tag = article.find('span', attrs={\"data-consumer-name-typography\": True})\n",
        "        if name_tag:\n",
        "            full_name = name_tag.get_text(strip=True)\n",
        "            name_parts = full_name.split(\" \", 1)\n",
        "            first_name = name_parts[0]\n",
        "            last_name = name_parts[1] if len(name_parts) > 1 else None\n",
        "\n",
        "        # Extract heading/title\n",
        "        heading_tag = article.find('h2', attrs={\"data-service-review-title-typography\": True})\n",
        "        if heading_tag:\n",
        "            review_heading = heading_tag.get_text(strip=True)\n",
        "\n",
        "        # Extract review text\n",
        "        text_tag = article.find('p', attrs={\"data-service-review-text-typography\": True})\n",
        "        if text_tag:\n",
        "            review_text = text_tag.get_text(strip=True)\n",
        "\n",
        "        # Extract ISO datetime\n",
        "        time_tag = article.find('time')\n",
        "        if time_tag and time_tag.has_attr('datetime'):\n",
        "            review_date = time_tag['datetime']\n",
        "            try:\n",
        "                review_date = datetime.fromisoformat(review_date.replace(\"Z\", \"+00:00\")).date()\n",
        "            except ValueError:\n",
        "                pass\n",
        "\n",
        "        # Extract rating\n",
        "        header_div = article.find('div', attrs={\"data-service-review-rating\": True})\n",
        "        if header_div:\n",
        "            rating = header_div.get(\"data-service-review-rating\")\n",
        "\n",
        "        reviews_data.append({\n",
        "            \"First Name\": first_name,\n",
        "            \"Last Name\": last_name,\n",
        "            \"Review Heading\": review_heading,\n",
        "            \"Review Text\": review_text,\n",
        "            \"Review Date\": review_date,\n",
        "            \"Rating\": rating\n",
        "        })\n",
        "\n",
        "    return reviews_data\n",
        "\n",
        "\n",
        "def extract_all_reviews(base_url, from_page=1, to_page=6):\n",
        "    all_reviews = []\n",
        "    for page in range(from_page, to_page + 1):\n",
        "        page_url = f\"{base_url}?page={page}\"\n",
        "        print(f\"Scraping: {page_url}\")\n",
        "        all_reviews.extend(extract_reviews(page_url))\n",
        "        sleep(1)  # Pause to avoid throttling\n",
        "    return pd.DataFrame(all_reviews)\n",
        "\n",
        "# Example usage:\n",
        "base_url = \"https://www.trustpilot.com/review/spinfinite.com\"\n",
        "df_reviews = extract_all_reviews(base_url, from_page=1, to_page=4)\n",
        "print(df_reviews)\n",
        "\n"
      ]
    },
    {
      "cell_type": "code",
      "source": [
        "from google.colab import files\n",
        "# Convert the DataFrame to a CSV file and download it\n",
        "df_reviews.to_csv('reviews.csv', index=False)\n",
        "files.download('reviews.csv')"
      ],
      "metadata": {
        "colab": {
          "base_uri": "https://localhost:8080/",
          "height": 17
        },
        "id": "XfeWnNaSVd02",
        "outputId": "90f138d7-b31b-4782-f6ed-56bed2dd8932"
      },
      "execution_count": 6,
      "outputs": [
        {
          "output_type": "display_data",
          "data": {
            "text/plain": [
              "<IPython.core.display.Javascript object>"
            ],
            "application/javascript": [
              "\n",
              "    async function download(id, filename, size) {\n",
              "      if (!google.colab.kernel.accessAllowed) {\n",
              "        return;\n",
              "      }\n",
              "      const div = document.createElement('div');\n",
              "      const label = document.createElement('label');\n",
              "      label.textContent = `Downloading \"${filename}\": `;\n",
              "      div.appendChild(label);\n",
              "      const progress = document.createElement('progress');\n",
              "      progress.max = size;\n",
              "      div.appendChild(progress);\n",
              "      document.body.appendChild(div);\n",
              "\n",
              "      const buffers = [];\n",
              "      let downloaded = 0;\n",
              "\n",
              "      const channel = await google.colab.kernel.comms.open(id);\n",
              "      // Send a message to notify the kernel that we're ready.\n",
              "      channel.send({})\n",
              "\n",
              "      for await (const message of channel.messages) {\n",
              "        // Send a message to notify the kernel that we're ready.\n",
              "        channel.send({})\n",
              "        if (message.buffers) {\n",
              "          for (const buffer of message.buffers) {\n",
              "            buffers.push(buffer);\n",
              "            downloaded += buffer.byteLength;\n",
              "            progress.value = downloaded;\n",
              "          }\n",
              "        }\n",
              "      }\n",
              "      const blob = new Blob(buffers, {type: 'application/binary'});\n",
              "      const a = document.createElement('a');\n",
              "      a.href = window.URL.createObjectURL(blob);\n",
              "      a.download = filename;\n",
              "      div.appendChild(a);\n",
              "      a.click();\n",
              "      div.remove();\n",
              "    }\n",
              "  "
            ]
          },
          "metadata": {}
        },
        {
          "output_type": "display_data",
          "data": {
            "text/plain": [
              "<IPython.core.display.Javascript object>"
            ],
            "application/javascript": [
              "download(\"download_b44aed2e-1668-4c10-9c65-0bb65145966b\", \"reviews.csv\", 29277)"
            ]
          },
          "metadata": {}
        }
      ]
    }
  ]
}